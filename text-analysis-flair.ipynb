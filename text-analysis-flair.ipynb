{
 "cells": [
  {
   "cell_type": "code",
   "execution_count": 34,
   "metadata": {},
   "outputs": [
    {
     "name": "stdout",
     "output_type": "stream",
     "text": [
      "2020-10-17 16:51:09,393 loading file C:\\Users\\Liu\\.flair\\models\\sentiment-en-mix-distillbert_3.1.pt\n"
     ]
    }
   ],
   "source": [
    "import speech_recognition as sr\n",
    "from googletrans import Translator\n",
    "from flair.data import Sentence\n",
    "from flair.models import TextClassifier\n",
    "classifier = TextClassifier.load('sentiment')"
   ]
  },
  {
   "cell_type": "code",
   "execution_count": 35,
   "metadata": {},
   "outputs": [],
   "source": [
    "def JobTA():\n",
    "    \n",
    "    #Speech Recognition\n",
    "    r = sr.Recognizer()\n",
    "    mic = sr.Microphone(device_index = 1)\n",
    "    with mic as source:\n",
    "        audio = r.listen(source)\n",
    "    voz_mic = r.recognize_google(audio, language = 'pt-BR')\n",
    "\n",
    "    #Tradutor pt-BR para en-US\n",
    "    tr = Translator()\n",
    "    voz_tr = tr.translate(voz_mic, dest='en')\n",
    "\n",
    "    #Análise de Sentimento\n",
    "    sentence = Sentence(voz_tr.text)\n",
    "    classifier.predict(sentence)\n",
    "\n",
    "    print(\"Frase original: \" + voz_mic)\n",
    "    print(\"Frase traduzida(en): \" + voz_tr.text)\n",
    "    print(\"A classificação do sentimento foi: \" + str(sentence.labels))\n",
    "\n",
    "    return "
   ]
  },
  {
   "cell_type": "code",
   "execution_count": 44,
   "metadata": {},
   "outputs": [
    {
     "name": "stdout",
     "output_type": "stream",
     "text": [
      "Frase original: o prazo acabou\n",
      "Frase traduzida(en): the term is over\n",
      "A classificação do sentimento foi: [NEGATIVE (0.9991)]\n"
     ]
    }
   ],
   "source": [
    "JobTA()"
   ]
  }
 ],
 "metadata": {
  "kernelspec": {
   "display_name": "Python 3.8.3 64-bit ('base': conda)",
   "metadata": {
    "interpreter": {
     "hash": "b3ba2566441a7c06988d0923437866b63cedc61552a5af99d1f4fb67d367b25f"
    }
   },
   "name": "Python 3.8.3 64-bit ('base': conda)"
  },
  "language_info": {
   "codemirror_mode": {
    "name": "ipython",
    "version": 3
   },
   "file_extension": ".py",
   "mimetype": "text/x-python",
   "name": "python",
   "nbconvert_exporter": "python",
   "pygments_lexer": "ipython3",
   "version": "3.8.3-final"
  },
  "orig_nbformat": 2
 },
 "nbformat": 4,
 "nbformat_minor": 2
}
